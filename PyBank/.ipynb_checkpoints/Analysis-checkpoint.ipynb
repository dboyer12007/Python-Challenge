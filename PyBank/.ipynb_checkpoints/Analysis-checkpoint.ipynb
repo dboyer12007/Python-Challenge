{
 "cells": [
  {
   "cell_type": "code",
   "execution_count": 3,
   "id": "3e8d5561-6815-42c0-af01-9430099ee741",
   "metadata": {},
   "outputs": [
    {
     "name": "stdout",
     "output_type": "stream",
     "text": [
      "C:\\Users\\dboye\\desktop\\Python-Challenge\\PyBank\n"
     ]
    },
    {
     "ename": "FileNotFoundError",
     "evalue": "[Errno 2] No such file or directory: 'Resources\\\\budget_data.csv'",
     "output_type": "error",
     "traceback": [
      "\u001b[1;31m---------------------------------------------------------------------------\u001b[0m",
      "\u001b[1;31mFileNotFoundError\u001b[0m                         Traceback (most recent call last)",
      "Cell \u001b[1;32mIn[3], line 9\u001b[0m\n\u001b[0;32m      5\u001b[0m budget_data \u001b[38;5;241m=\u001b[39m os\u001b[38;5;241m.\u001b[39mpath\u001b[38;5;241m.\u001b[39mjoin(\u001b[38;5;124m'\u001b[39m\u001b[38;5;124mResources\u001b[39m\u001b[38;5;124m'\u001b[39m, \u001b[38;5;124m'\u001b[39m\u001b[38;5;124mbudget_data.csv\u001b[39m\u001b[38;5;124m'\u001b[39m)\n\u001b[0;32m      7\u001b[0m   \u001b[38;5;66;03m# Open and read\u001b[39;00m\n\u001b[1;32m----> 9\u001b[0m \u001b[38;5;28;01mwith\u001b[39;00m \u001b[38;5;28mopen\u001b[39m(budget_data) \u001b[38;5;28;01mas\u001b[39;00m csv_file:\n\u001b[0;32m     10\u001b[0m     csv_reader \u001b[38;5;241m=\u001b[39m csv\u001b[38;5;241m.\u001b[39mDictReader(csv_file, delimiter\u001b[38;5;241m=\u001b[39m\u001b[38;5;124m'\u001b[39m\u001b[38;5;124m,\u001b[39m\u001b[38;5;124m'\u001b[39m)\n\u001b[0;32m     12\u001b[0m     \u001b[38;5;66;03m# Read through header\u001b[39;00m\n\u001b[0;32m     13\u001b[0m     \n\u001b[0;32m     14\u001b[0m     \u001b[38;5;66;03m#csv_header = next(csv_reader)\u001b[39;00m\n",
      "File \u001b[1;32m~\\anaconda3\\Lib\\site-packages\\IPython\\core\\interactiveshell.py:324\u001b[0m, in \u001b[0;36m_modified_open\u001b[1;34m(file, *args, **kwargs)\u001b[0m\n\u001b[0;32m    317\u001b[0m \u001b[38;5;28;01mif\u001b[39;00m file \u001b[38;5;129;01min\u001b[39;00m {\u001b[38;5;241m0\u001b[39m, \u001b[38;5;241m1\u001b[39m, \u001b[38;5;241m2\u001b[39m}:\n\u001b[0;32m    318\u001b[0m     \u001b[38;5;28;01mraise\u001b[39;00m \u001b[38;5;167;01mValueError\u001b[39;00m(\n\u001b[0;32m    319\u001b[0m         \u001b[38;5;124mf\u001b[39m\u001b[38;5;124m\"\u001b[39m\u001b[38;5;124mIPython won\u001b[39m\u001b[38;5;124m'\u001b[39m\u001b[38;5;124mt let you open fd=\u001b[39m\u001b[38;5;132;01m{\u001b[39;00mfile\u001b[38;5;132;01m}\u001b[39;00m\u001b[38;5;124m by default \u001b[39m\u001b[38;5;124m\"\u001b[39m\n\u001b[0;32m    320\u001b[0m         \u001b[38;5;124m\"\u001b[39m\u001b[38;5;124mas it is likely to crash IPython. If you know what you are doing, \u001b[39m\u001b[38;5;124m\"\u001b[39m\n\u001b[0;32m    321\u001b[0m         \u001b[38;5;124m\"\u001b[39m\u001b[38;5;124myou can use builtins\u001b[39m\u001b[38;5;124m'\u001b[39m\u001b[38;5;124m open.\u001b[39m\u001b[38;5;124m\"\u001b[39m\n\u001b[0;32m    322\u001b[0m     )\n\u001b[1;32m--> 324\u001b[0m \u001b[38;5;28;01mreturn\u001b[39;00m io_open(file, \u001b[38;5;241m*\u001b[39margs, \u001b[38;5;241m*\u001b[39m\u001b[38;5;241m*\u001b[39mkwargs)\n",
      "\u001b[1;31mFileNotFoundError\u001b[0m: [Errno 2] No such file or directory: 'Resources\\\\budget_data.csv'"
     ]
    }
   ],
   "source": [
    "import os\n",
    "import csv\n",
    "print(os.getcwd())\n",
    "  # Create a path\n",
    "budget_data = os.path.join('Resources', 'budget_data.csv')\n",
    "\n",
    "  # Open and read\n",
    "\n",
    "with open(budget_data) as csv_file:\n",
    "    csv_reader = csv.DictReader(csv_file, delimiter=',')\n",
    "    \n",
    "    # Read through header\n",
    "    \n",
    "    #csv_header = next(csv_reader)\n",
    "    print(f'Header: {csv_header}')\n",
    "   \n",
    "    # Intitialize lists \n",
    "    dates = []\n",
    "    profits = []\n",
    "\n",
    "    #Extract Data\n",
    "    for row in csv_reader:\n",
    "        print(row)\n",
    "        dates.append(row['Date'])\n",
    "        profits.append(int(row['Profit/Losses']))\n",
    "\n",
    "    # print number of months\n",
    "    months_count = len(dates)\n",
    "    print(f'Months: {len(dates)}')\n",
    "\n",
    "    #print the sum of the Profits\n",
    "    total_profit = sum(profits)   \n",
    "    print(f'Total:${total_profit:,.2f}')\n",
    "    \n",
    "\n",
    "    #print the greatest increase in profits\n",
    "    max_profit = max(profits)\n",
    "    print(f'Greatest Profit: ${max_profit:,.2f}')\n",
    "\n",
    "     #print the greatest loss in profits\n",
    "    min_profit = min(profits)\n",
    "    print(f'Greatest Loss: ${min_profit:,.2f}')\n",
    "\n",
    "     \n",
    "     # Find monthly changes \n",
    "    monthly_changes = []\n",
    "    for i in range (1, len(profits)):\n",
    "        monthly_change = profits[i] - profits[i-1]\n",
    "        monthly_changes.append(monthly_change)\n",
    "     \n",
    "    \n",
    "    # Find and print average change\n",
    "    average_change = sum(monthly_changes) / len(monthly_changes)\n",
    "    print(f'Average Change: ${average_change:,.2f}')\n",
    "    \n",
    "        \n",
    "        # Print the greatest increase\n",
    "    max_increase = max(monthly_changes)\n",
    "    print (f'Greatest Increase in Profits: (${max_increase:,.2f})')\n",
    "  \n",
    "    # Print the greatest decrese\n",
    "    max_decrease = min(monthly_changes)\n",
    "    print (f'Greatest Decrease in Profits: (${max_decrease:,.2f})')\n",
    "\n",
    "\n",
    "    # Save as a text file\n",
    "with open('Analysis.txt', 'w') as text_file:\n",
    "    text_file.write('Analysis\\n')\n",
    "    text_file.write('----------------------------\\n')\n",
    "    text_file.write(f'Total Months: {months_count}\\n')\n",
    "    text_file.write(f'Total: ${total_profit:,.2f}\\n')\n",
    "    text_file.write(f'Average Change: ${average_change:,.2f}\\n')\n",
    "    text_file.write(f'Greatest Increase in Profits: ${max_increase:,.2f}\\n')\n",
    "    text_file.write(f'Greatest Decrease in Profits: ${max_decrease:,.2f}\\n')\n",
    "\n",
    "print(\"Financial analysis has been saved to 'financial_analysis.txt'\")\n",
    "    "
   ]
  }
 ],
 "metadata": {
  "kernelspec": {
   "display_name": "Python 3 (ipykernel)",
   "language": "python",
   "name": "python3"
  },
  "language_info": {
   "codemirror_mode": {
    "name": "ipython",
    "version": 3
   },
   "file_extension": ".py",
   "mimetype": "text/x-python",
   "name": "python",
   "nbconvert_exporter": "python",
   "pygments_lexer": "ipython3",
   "version": "3.12.4"
  }
 },
 "nbformat": 4,
 "nbformat_minor": 5
}
